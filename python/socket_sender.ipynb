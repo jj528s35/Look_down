{
 "cells": [
  {
   "cell_type": "code",
   "execution_count": 4,
   "metadata": {},
   "outputs": [
    {
     "name": "stdout",
     "output_type": "stream",
     "text": [
      "create socket successful\n",
      "close the socket successful\n"
     ]
    }
   ],
   "source": [
    "import socket\n",
    "\n",
    "port = 7777\n",
    "sock = None\n",
    "sock_state = 0\n",
    "\n",
    "def create_socket():\n",
    "    '''\n",
    "        create a sock\n",
    "    '''\n",
    "    global sock, port, sock_state\n",
    "\n",
    "    try:\n",
    "        sock = socket.socket(socket.AF_INET, socket.SOCK_STREAM)\n",
    "        sock.connect(('127.0.0.1', port))\n",
    "    except socket.error as msg:\n",
    "        print(\"[ERROR] %s\\n\"%(msg))\n",
    "        sock_state = -1\n",
    "    print('create socket successful')\n",
    "\n",
    "def close_socket():\n",
    "    '''\n",
    "        close the socket\n",
    "    '''\n",
    "    global sock\n",
    "    if (sock is not None):\n",
    "        sock.close()\n",
    "        sock = None\n",
    "    print('close the socket successful')\n",
    "\n",
    "def send(string):\n",
    "    '''\n",
    "        send the data with TCP sock.\n",
    "        data format: \"data_type data[0] data[1] ...\"\n",
    "    '''\n",
    "    global sock, sock_state\n",
    "    if(sock_state != -1):\n",
    "        if sock is None:\n",
    "            create_socket()\n",
    "        else:\n",
    "            sock.sendall(string.encode())\n",
    "\n",
    "if(__name__ == '__main__'):\n",
    "    create_socket()\n",
    "    send('0 hello world')\n",
    "    close_socket()"
   ]
  },
  {
   "cell_type": "code",
   "execution_count": 2,
   "metadata": {},
   "outputs": [
    {
     "name": "stderr",
     "output_type": "stream",
     "text": [
      "[NbConvertApp] Converting notebook socket_sender.ipynb to script\n",
      "[NbConvertApp] Writing 1102 bytes to socket_sender.py\n"
     ]
    }
   ],
   "source": [
    "!jupyter nbconvert --to script socket_sender.ipynb"
   ]
  },
  {
   "cell_type": "code",
   "execution_count": null,
   "metadata": {},
   "outputs": [],
   "source": []
  }
 ],
 "metadata": {
  "kernelspec": {
   "display_name": "Python 3",
   "language": "python",
   "name": "python3"
  },
  "language_info": {
   "codemirror_mode": {
    "name": "ipython",
    "version": 3
   },
   "file_extension": ".py",
   "mimetype": "text/x-python",
   "name": "python",
   "nbconvert_exporter": "python",
   "pygments_lexer": "ipython3",
   "version": "3.5.4"
  }
 },
 "nbformat": 4,
 "nbformat_minor": 2
}
