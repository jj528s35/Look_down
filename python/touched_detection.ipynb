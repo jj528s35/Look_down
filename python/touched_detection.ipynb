{
 "cells": [
  {
   "cell_type": "code",
   "execution_count": 3,
   "metadata": {},
   "outputs": [],
   "source": [
    "import numpy as np\n",
    "import cv2\n",
    "import math\n",
    "\n",
    "fingertips_touched_flag = np.zeros((10,1))\n",
    "\n",
    "def touching_detection(tips, hand_mask, depth_image, draw_image=None):\n",
    "    '''\n",
    "    by Yuan-Syun ye on 2019/06/17.\n",
    "    \n",
    "    To detect if the fingertips are touching or not, our algorithm analyzes a 7x7 patch centered on the fingertip's contour position.\n",
    "    Each patch of pixels centered on the fingertip's contour position. Each patch is split into S, the set of pixels within the hand + finger mask,\n",
    "    and T, the set of pixels outside the mask. The estimated height of the finger is then given by max(Zs|s C S) - min(Zt|t C T)\n",
    "    \n",
    "    To confirm contact with the surface, the algorithm applies a simple pair of hysteresis thresholds - a fingertip is declared as touching\n",
    "    the surface if the smoothed fingertip height descends below 10 mm, and declared to have left the surface if its height laster ascends past 15 mm.\n",
    "    '''\n",
    "    global fingertips_touched_flag\n",
    "    kernal_size = 21\n",
    "    touch_height = 0.02\n",
    "    untouch_height = 0.025\n",
    "    \n",
    "    # debug image\n",
    "    if(draw_image is not None):\n",
    "        touched_text = \"touched\"\n",
    "        text_size = 0.25\n",
    "        touched_color = (0, 255, 0)\n",
    "        touched_image = draw_image.copy()\n",
    "    \n",
    "    max_width, max_height =  hand_mask.shape\n",
    "#     print('max width: %d, height: %d'%(max_width, max_height))\n",
    "#     print('test access: %d'%(hand_mask[170, 223]))\n",
    "    for index, tip in enumerate(tips):\n",
    "        \n",
    "        # this tip is not tracking\n",
    "        if(tip[0] == -1):\n",
    "            fingertips_touched_flag[index] = False\n",
    "            continue\n",
    "            \n",
    "        # the min hight within the hand+finger mask\n",
    "        Zs = (0,0)\n",
    "        tip_height = -999\n",
    "        \n",
    "        # the max height outside the mask.\n",
    "        Zt = (0,0)\n",
    "        surface_height = 999\n",
    "\n",
    "#         print ('tip[%d] = (%d, %d)' % (i, tip[0], tip[1]))\n",
    "        for h in range(-math.floor(kernal_size/2), math.floor(kernal_size/2), 1):\n",
    "            for w in range(-math.floor(kernal_size/2), math.floor(kernal_size/2), 1):\n",
    "                (u, v) = (int(tip[1]+w), int(tip[0]+h))\n",
    "                \n",
    "                # check the bounder\n",
    "                if(u < 0 or u >= max_width):\n",
    "                    continue\n",
    "                if(v < 0 or v >= max_height):\n",
    "                    continue\n",
    "\n",
    "                if (hand_mask[u, v] == True):\n",
    "                    if(depth_image[u, v] > tip_height):\n",
    "                        Zs = (u, v)\n",
    "                        tip_height = depth_image[u,v]\n",
    "                else:\n",
    "                    if(depth_image[u, v] < surface_height):\n",
    "                        Zt = (u,v )\n",
    "                        surface_height = depth_image[u,v]\n",
    "                        \n",
    "#                 if(draw_image is not None):\n",
    "#                     touched_image[u, v]=touched_color\n",
    "                    \n",
    "            if((tip_height - surface_height) < touch_height):\n",
    "                fingertips_touched_flag[index] = True\n",
    "#                 print(tip_height,surface_height,(tip_height - surface_height))\n",
    "#                 print('finger %d touched'%(index))\n",
    "            if((tip_height - surface_height) > untouch_height):\n",
    "                fingertips_touched_flag[index] = False\n",
    "#     print(fingertips_touched_flag)\n",
    "\n",
    "    # debug image\n",
    "    if(draw_image is not None):\n",
    "        for i, touched in enumerate(fingertips_touched_flag):\n",
    "            if(touched == True):\n",
    "#                 print('tips[%d], tips size: %d, %d'%(i, tips.shape[0], tips.shape[1]))\n",
    "                pos = (int(tips[i][0]), int(tips[i][1]))\n",
    "                print('touched pos:', pos)\n",
    "                cv2.circle(touched_image, pos, 5 , touched_color , 3)\n",
    "                cv2.putText(img=touched_image, text=touched_text, org=pos, fontFace=cv2.FONT_HERSHEY_SIMPLEX, fontScale=text_size, color=touched_color)\n",
    "    return fingertips_touched_flag, touched_image"
   ]
  },
  {
   "cell_type": "code",
   "execution_count": 4,
   "metadata": {},
   "outputs": [
    {
     "name": "stderr",
     "output_type": "stream",
     "text": [
      "[NbConvertApp] Converting notebook touched_detection.ipynb to script\n",
      "[NbConvertApp] Writing 3951 bytes to touched_detection.py\n"
     ]
    }
   ],
   "source": [
    "!jupyter nbconvert --to script touched_detection.ipynb"
   ]
  },
  {
   "cell_type": "code",
   "execution_count": null,
   "metadata": {},
   "outputs": [],
   "source": []
  }
 ],
 "metadata": {
  "kernelspec": {
   "display_name": "Python 3",
   "language": "python",
   "name": "python3"
  },
  "language_info": {
   "codemirror_mode": {
    "name": "ipython",
    "version": 3
   },
   "file_extension": ".py",
   "mimetype": "text/x-python",
   "name": "python",
   "nbconvert_exporter": "python",
   "pygments_lexer": "ipython3",
   "version": "3.5.4"
  }
 },
 "nbformat": 4,
 "nbformat_minor": 2
}
