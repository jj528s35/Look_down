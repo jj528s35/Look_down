{
 "cells": [
  {
   "cell_type": "markdown",
   "metadata": {},
   "source": [
    "# Streaming receiver"
   ]
  },
  {
   "cell_type": "code",
   "execution_count": null,
   "metadata": {},
   "outputs": [],
   "source": [
    "import sys\n",
    "import pyzed.sl as sl\n",
    "import cv2\n",
    "\n",
    "import math\n",
    "import numpy as np\n"
   ]
  },
  {
   "cell_type": "code",
   "execution_count": null,
   "metadata": {},
   "outputs": [],
   "source": [
    "def get_distance(point3D):\n",
    "    distance = math.sqrt(point3D[0] * point3D[0] + point3D[1] * point3D[1] + point3D[2] * point3D[2])\n",
    "\n",
    "    if not np.isnan(distance) and not np.isinf(distance):\n",
    "        distance = round(distance)\n",
    "        print(\"Distance to Camera : {0} mm\\n\".format(distance))\n",
    "    return distance"
   ]
  },
  {
   "cell_type": "code",
   "execution_count": null,
   "metadata": {},
   "outputs": [],
   "source": [
    "def main():\n",
    "\n",
    "    init = sl.InitParameters()\n",
    "    init.camera_resolution = sl.RESOLUTION.RESOLUTION_HD720\n",
    "    init.depth_mode = sl.DEPTH_MODE.DEPTH_MODE_PERFORMANCE\n",
    "\n",
    "    #read from streaming\n",
    "    sys.argv[1] = '127.0.0.1'\n",
    "    if (len(sys.argv) > 1) :\n",
    "        ip = sys.argv[1]\n",
    "        init.set_from_stream(ip)\n",
    "    else :\n",
    "        print('Usage : python3 streaming_receiver.py ip')\n",
    "        exit(1)\n",
    "        \n",
    "    #read from SVO file\n",
    "#     filepath = 'record_1017.svo'\n",
    "#     print(\"Reading SVO file: {0}\".format(filepath))\n",
    "\n",
    "    init = sl.InitParameters(svo_input_filename=filepath,svo_real_time_mode=False)\n",
    "\n",
    "    cam = sl.Camera()\n",
    "    status = cam.open(init)\n",
    "    if status != sl.ERROR_CODE.SUCCESS:\n",
    "        print(repr(status))\n",
    "        exit(1)\n",
    "\n",
    "    runtime = sl.RuntimeParameters()\n",
    "    \n",
    "    image = sl.Mat() #image\n",
    "    depth = sl.Mat() #depth map\n",
    "    depth_for_display = sl.Mat() #depth map,scale its values to [0, 255]\n",
    "    point_cloud = sl.Mat() #colored point cloud.\n",
    "\n",
    "    key = ''\n",
    "    print(\"  Quit : CTRL+C\\n\")\n",
    "    while key != 113:\n",
    "        err = cam.grab(runtime)\n",
    "        if (err == sl.ERROR_CODE.SUCCESS) :\n",
    "            # Retrieve left image\n",
    "            cam.retrieve_image(image, sl.VIEW.VIEW_LEFT)\n",
    "            cam.retrieve_image(depth_for_display, sl.VIEW.VIEW_DEPTH)\n",
    "            # Retrieve depth map. Depth is aligned on the left image\n",
    "            cam.retrieve_measure(depth, sl.MEASURE.MEASURE_DEPTH)\n",
    "            # Retrieve colored point cloud. Point cloud is aligned on the left image.\n",
    "            cam.retrieve_measure(point_cloud, sl.MEASURE.MEASURE_XYZRGBA)\n",
    "            \n",
    "#             #test\n",
    "#             x = round(image.get_width() / 2)\n",
    "#             y = round(image.get_height() / 2)\n",
    "#             err, depth_value = depth.get_value(x,y)\n",
    "#             print(\"depth_value at ({0}, {1}): {2} mm\\n\".format(x, y, round(depth_value)))\n",
    "#             err, point3D = point_cloud.get_value(x,y)\n",
    "#             get_distance(point3D)\n",
    "#             #test\n",
    "            \n",
    "            cv2.imshow(\"ZED\", image.get_data())\n",
    "#             cv2.imshow(\"Depth img\", depth_for_display.get_data())\n",
    "            key = cv2.waitKey(1)\n",
    "        else :\n",
    "            key = cv2.waitKey(1)\n",
    "\n",
    "    cam.close()\n",
    "\n"
   ]
  },
  {
   "cell_type": "code",
   "execution_count": null,
   "metadata": {},
   "outputs": [],
   "source": [
    "if __name__ == \"__main__\":\n",
    "    main()"
   ]
  },
  {
   "cell_type": "code",
   "execution_count": null,
   "metadata": {},
   "outputs": [],
   "source": []
  }
 ],
 "metadata": {
  "kernelspec": {
   "display_name": "Python 3",
   "language": "python",
   "name": "python3"
  },
  "language_info": {
   "codemirror_mode": {
    "name": "ipython",
    "version": 3
   },
   "file_extension": ".py",
   "mimetype": "text/x-python",
   "name": "python",
   "nbconvert_exporter": "python",
   "pygments_lexer": "ipython3",
   "version": "3.5.4"
  }
 },
 "nbformat": 4,
 "nbformat_minor": 2
}
